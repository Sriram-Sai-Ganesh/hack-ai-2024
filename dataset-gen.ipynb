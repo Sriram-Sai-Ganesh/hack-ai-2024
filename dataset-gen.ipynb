{
 "cells": [
  {
   "cell_type": "code",
   "execution_count": 96,
   "metadata": {},
   "outputs": [],
   "source": [
    "import os\n",
    "from PIL import Image, ImageDraw, ImageFont"
   ]
  },
  {
   "cell_type": "code",
   "execution_count": 93,
   "metadata": {},
   "outputs": [],
   "source": [
    "# standard image size\n",
    "IMG_SIZE = (32,32)\n",
    "\n",
    "# dictionary of 'label' : 'character' for all possible chars\n",
    "CHARS = {'dot':'.','divide':'/', 'asterisk':'*', 'plus':'+', 'minus':'-', 'equal':'=', 'zero':'0', 'one':'1', 'two':'2', 'three':'3', 'four':'4', 'five':'5', 'six':'6', 'seven':'7', 'eight':'8', 'nine':'9'}\n",
    "for i in list('ABCDEFGHIJKLMNOPQRSTUVWXYZabcdefghijklmnopqrstuvwxyz'):\n",
    "    CHARS[i]=i\n",
    "    \n",
    "\n",
    "# list of fonts to use\n",
    "FONTS=['Chalkduster', 'Georgia', 'Times New Roman', 'Verdana', 'Courier New', 'Impact', 'Trebuchet MS', 'Andale Mono', 'Arial', 'Arial Black', 'Arial Narrow', 'Chalkduster', 'Geneva', 'Monaco', 'Zapfino']"
   ]
  },
  {
   "cell_type": "code",
   "execution_count": 97,
   "metadata": {},
   "outputs": [],
   "source": [
    "def generate_character_image(character, font_name, font_size=30):\n",
    "    # Create a blank image with white background\n",
    "    image = Image.new(\"L\", IMG_SIZE, \"white\")\n",
    "    draw = ImageDraw.Draw(image)\n",
    "    \n",
    "    # Load the specified font\n",
    "    font = ImageFont.truetype(f'{font_name}.ttf', font_size)\n",
    "    \n",
    "    # Calculate text size and position\n",
    "    (left, top, right, bottom) = ImageDraw.textbbox((0,0), character, font=font)\n",
    "    \n",
    "    # Draw the character onto the image\n",
    "    draw.text(position, character, fill=\"black\", font=font)\n",
    "    \n",
    "    return image"
   ]
  },
  {
   "cell_type": "code",
   "execution_count": 86,
   "metadata": {},
   "outputs": [],
   "source": [
    "def gen_and_save(character, name, folder, font):\n",
    "    # Generate the image\n",
    "    image = generate_character_image(character, font)\n",
    "    \n",
    "    # Save the image\n",
    "    image.save(f'{folder}/{font}.png')"
   ]
  },
  {
   "cell_type": "code",
   "execution_count": 87,
   "metadata": {},
   "outputs": [],
   "source": [
    "def handle_char(char, name, folder):\n",
    "    newpath = r'dataset' \n",
    "    folder=f'{folder}/{name}'\n",
    "    if not os.path.exists(folder):\n",
    "        os.makedirs(folder)\n",
    "    for font in FONTS:\n",
    "        gen_and_save(char, name, folder, font)"
   ]
  },
  {
   "cell_type": "code",
   "execution_count": 98,
   "metadata": {},
   "outputs": [
    {
     "name": "stdout",
     "output_type": "stream",
     "text": [
      "font is Chalkduster\n"
     ]
    },
    {
     "ename": "AttributeError",
     "evalue": "'ImageDraw' object has no attribute 'textsize'",
     "output_type": "error",
     "traceback": [
      "\u001b[0;31m---------------------------------------------------------------------------\u001b[0m",
      "\u001b[0;31mAttributeError\u001b[0m                            Traceback (most recent call last)",
      "Cell \u001b[0;32mIn[98], line 3\u001b[0m\n\u001b[1;32m      1\u001b[0m \u001b[38;5;28mprint\u001b[39m(\u001b[38;5;124mf\u001b[39m\u001b[38;5;124m'\u001b[39m\u001b[38;5;124mfont is \u001b[39m\u001b[38;5;132;01m{\u001b[39;00mFONTS[\u001b[38;5;241m0\u001b[39m]\u001b[38;5;132;01m}\u001b[39;00m\u001b[38;5;124m'\u001b[39m)\n\u001b[1;32m      2\u001b[0m \u001b[38;5;28;01mfor\u001b[39;00m name, char \u001b[38;5;129;01min\u001b[39;00m CHARS\u001b[38;5;241m.\u001b[39mitems():\n\u001b[0;32m----> 3\u001b[0m     \u001b[43mhandle_char\u001b[49m\u001b[43m(\u001b[49m\u001b[43mchar\u001b[49m\u001b[38;5;241;43m=\u001b[39;49m\u001b[43mchar\u001b[49m\u001b[43m,\u001b[49m\u001b[43m \u001b[49m\u001b[43mname\u001b[49m\u001b[38;5;241;43m=\u001b[39;49m\u001b[43mname\u001b[49m\u001b[43m,\u001b[49m\u001b[43m \u001b[49m\u001b[43mfolder\u001b[49m\u001b[38;5;241;43m=\u001b[39;49m\u001b[38;5;124;43m'\u001b[39;49m\u001b[38;5;124;43mdataset\u001b[39;49m\u001b[38;5;124;43m'\u001b[39;49m\u001b[43m)\u001b[49m\n",
      "Cell \u001b[0;32mIn[87], line 7\u001b[0m, in \u001b[0;36mhandle_char\u001b[0;34m(char, name, folder)\u001b[0m\n\u001b[1;32m      5\u001b[0m     os\u001b[38;5;241m.\u001b[39mmakedirs(folder)\n\u001b[1;32m      6\u001b[0m \u001b[38;5;28;01mfor\u001b[39;00m font \u001b[38;5;129;01min\u001b[39;00m FONTS:\n\u001b[0;32m----> 7\u001b[0m     \u001b[43mgen_and_save\u001b[49m\u001b[43m(\u001b[49m\u001b[43mchar\u001b[49m\u001b[43m,\u001b[49m\u001b[43m \u001b[49m\u001b[43mname\u001b[49m\u001b[43m,\u001b[49m\u001b[43m \u001b[49m\u001b[43mfolder\u001b[49m\u001b[43m,\u001b[49m\u001b[43m \u001b[49m\u001b[43mfont\u001b[49m\u001b[43m)\u001b[49m\n",
      "Cell \u001b[0;32mIn[86], line 3\u001b[0m, in \u001b[0;36mgen_and_save\u001b[0;34m(character, name, folder, font)\u001b[0m\n\u001b[1;32m      1\u001b[0m \u001b[38;5;28;01mdef\u001b[39;00m \u001b[38;5;21mgen_and_save\u001b[39m(character, name, folder, font):\n\u001b[1;32m      2\u001b[0m     \u001b[38;5;66;03m# Generate the image\u001b[39;00m\n\u001b[0;32m----> 3\u001b[0m     image \u001b[38;5;241m=\u001b[39m \u001b[43mgenerate_character_image\u001b[49m\u001b[43m(\u001b[49m\u001b[43mcharacter\u001b[49m\u001b[43m,\u001b[49m\u001b[43m \u001b[49m\u001b[43mfont\u001b[49m\u001b[43m)\u001b[49m\n\u001b[1;32m      5\u001b[0m     \u001b[38;5;66;03m# Save the image\u001b[39;00m\n\u001b[1;32m      6\u001b[0m     image\u001b[38;5;241m.\u001b[39msave(\u001b[38;5;124mf\u001b[39m\u001b[38;5;124m'\u001b[39m\u001b[38;5;132;01m{\u001b[39;00mfolder\u001b[38;5;132;01m}\u001b[39;00m\u001b[38;5;124m/\u001b[39m\u001b[38;5;132;01m{\u001b[39;00mfont\u001b[38;5;132;01m}\u001b[39;00m\u001b[38;5;124m.png\u001b[39m\u001b[38;5;124m'\u001b[39m)\n",
      "Cell \u001b[0;32mIn[97], line 10\u001b[0m, in \u001b[0;36mgenerate_character_image\u001b[0;34m(character, font_name, font_size)\u001b[0m\n\u001b[1;32m      7\u001b[0m font \u001b[38;5;241m=\u001b[39m ImageFont\u001b[38;5;241m.\u001b[39mtruetype(\u001b[38;5;124mf\u001b[39m\u001b[38;5;124m'\u001b[39m\u001b[38;5;132;01m{\u001b[39;00mfont_name\u001b[38;5;132;01m}\u001b[39;00m\u001b[38;5;124m.ttf\u001b[39m\u001b[38;5;124m'\u001b[39m, font_size)\n\u001b[1;32m      9\u001b[0m \u001b[38;5;66;03m# Calculate text size and position\u001b[39;00m\n\u001b[0;32m---> 10\u001b[0m width, height \u001b[38;5;241m=\u001b[39m \u001b[43mdraw\u001b[49m\u001b[38;5;241;43m.\u001b[39;49m\u001b[43mtextsize\u001b[49m(character, font\u001b[38;5;241m=\u001b[39mfont)\n\u001b[1;32m     11\u001b[0m position \u001b[38;5;241m=\u001b[39m ((IMG_SIZE[\u001b[38;5;241m0\u001b[39m] \u001b[38;5;241m-\u001b[39m width) \u001b[38;5;241m/\u001b[39m\u001b[38;5;241m/\u001b[39m \u001b[38;5;241m2\u001b[39m, (IMG_SIZE[\u001b[38;5;241m1\u001b[39m] \u001b[38;5;241m-\u001b[39m height) \u001b[38;5;241m/\u001b[39m\u001b[38;5;241m/\u001b[39m \u001b[38;5;241m2\u001b[39m)\n\u001b[1;32m     12\u001b[0m \u001b[38;5;66;03m# position = (3,-3)\u001b[39;00m\n\u001b[1;32m     13\u001b[0m \n\u001b[1;32m     14\u001b[0m \u001b[38;5;66;03m# Draw the character onto the image\u001b[39;00m\n",
      "\u001b[0;31mAttributeError\u001b[0m: 'ImageDraw' object has no attribute 'textsize'"
     ]
    }
   ],
   "source": [
    "print(f'font is {FONTS[0]}')\n",
    "for name, char in CHARS.items():\n",
    "    handle_char(char=char, name=name, folder='dataset')"
   ]
  }
 ],
 "metadata": {
  "kernelspec": {
   "display_name": "Python 3",
   "language": "python",
   "name": "python3"
  },
  "language_info": {
   "codemirror_mode": {
    "name": "ipython",
    "version": 3
   },
   "file_extension": ".py",
   "mimetype": "text/x-python",
   "name": "python",
   "nbconvert_exporter": "python",
   "pygments_lexer": "ipython3",
   "version": "3.9.6"
  }
 },
 "nbformat": 4,
 "nbformat_minor": 2
}
