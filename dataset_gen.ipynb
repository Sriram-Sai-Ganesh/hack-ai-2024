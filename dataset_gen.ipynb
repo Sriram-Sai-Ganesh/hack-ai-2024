{
 "cells": [
  {
   "cell_type": "code",
   "execution_count": 210,
   "metadata": {},
   "outputs": [],
   "source": [
    "import os\n",
    "from PIL import Image, ImageDraw, ImageFont"
   ]
  },
  {
   "cell_type": "code",
   "execution_count": 3,
   "metadata": {},
   "outputs": [],
   "source": [
    "# standard image size\n",
    "IMG_SIZE = (32,32)\n",
    "\n",
    "# dictionary of 'label' : 'character' for all possible chars\n",
    "CHARS = {'dot':'.','divide':'/', 'asterisk':'*', 'plus':'+', 'minus':'-', 'equal':'=', 'zero':'0', 'one':'1', 'two':'2', 'three':'3', 'four':'4', 'five':'5', 'six':'6', 'seven':'7', 'eight':'8', 'nine':'9', 'comma':',', 'colon':':', 'double_quotes':'\"', \"single_quote\":\"'\"}\n",
    "for i in list('ABCDEFGHIJKLMNPQRSTUVWXYZabcdefghijklmnpqrstuvwxyz'):        # exclude upper and lowerase 'o', only '0' is used.\n",
    "    CHARS[i]=i\n",
    "    \n",
    "\n",
    "# list of fonts to use\n",
    "FONTS=['Andale Mono', 'Apple Chancery', 'Arial', 'Arial Black', 'Arial Narrow', 'Chalkduster', 'Comic Sans MS', 'Courier New', 'Geneva', 'Georgia', 'Monaco', 'Tahoma', 'Times New Roman', 'Trebuchet MS', 'Verdana']\n",
    "\n",
    "VERT_OFFSET = 3\n",
    "HORIZ_OFFSET = 0"
   ]
  },
  {
   "cell_type": "code",
   "execution_count": 5,
   "metadata": {},
   "outputs": [
    {
     "name": "stdout",
     "output_type": "stream",
     "text": [
      "['dot', 'divide', 'asterisk', 'plus', 'minus', 'equal', 'zero', 'one', 'two', 'three', 'four', 'five', 'six', 'seven', 'eight', 'nine', 'comma', 'colon', 'double_quotes', 'single_quote', 'A', 'B', 'C', 'D', 'E', 'F', 'G', 'H', 'I', 'J', 'K', 'L', 'M', 'N', 'P', 'Q', 'R', 'S', 'T', 'U', 'V', 'W', 'X', 'Y', 'Z', 'a', 'b', 'c', 'd', 'e', 'f', 'g', 'h', 'i', 'j', 'k', 'l', 'm', 'n', 'p', 'q', 'r', 's', 't', 'u', 'v', 'w', 'x', 'y', 'z']\n"
     ]
    }
   ],
   "source": [
    "def get_label_list():\n",
    "    return [x[0] for x in CHARS.items()]\n",
    "print(get_label_list())"
   ]
  },
  {
   "cell_type": "code",
   "execution_count": 212,
   "metadata": {},
   "outputs": [],
   "source": [
    "def print_cleaned_fonts():\n",
    "    font_list = []\n",
    "    print(len(FONTS))\n",
    "    FONTS=list(set(FONTS))\n",
    "    print(len(FONTS))\n",
    "    for font_name in FONTS:\n",
    "        try:\n",
    "            font = ImageFont.truetype(f'{font_name}.ttf', 5)\n",
    "            font_list.append(font_name)\n",
    "        except:\n",
    "            pass\n",
    "    print(font_list)\n",
    "    print(len(font_list))\n",
    "# print_cleaned_fonts()"
   ]
  },
  {
   "cell_type": "code",
   "execution_count": 213,
   "metadata": {},
   "outputs": [],
   "source": [
    "def generate_character_image(character, font_name, font_size=30):\n",
    "    # Create a blank image with white background\n",
    "    image = Image.new(\"L\", IMG_SIZE, \"white\")\n",
    "    draw = ImageDraw.Draw(image)\n",
    "    \n",
    "    # Load the specified font\n",
    "    font = ImageFont.truetype(f'{font_name}.ttf', font_size)\n",
    "    \n",
    "    # Calculate text size and position\n",
    "    _,_,w,h = draw.textbbox((0,0),text=character, font=font)\n",
    "    position = ((IMG_SIZE[0] - w) // 2 - HORIZ_OFFSET, (IMG_SIZE[1] - h) // 2 - VERT_OFFSET)\n",
    "    # print(f'width: {w}, height: {h}, position: {position}')\n",
    "    \n",
    "    # Draw the character onto the image\n",
    "    draw.text(position, character, fill=\"black\", font=font)\n",
    "    \n",
    "    return image"
   ]
  },
  {
   "cell_type": "code",
   "execution_count": 214,
   "metadata": {},
   "outputs": [],
   "source": [
    "def gen_and_save(character, name, folder, font):\n",
    "    # Generate the image\n",
    "    image = generate_character_image(character, font)\n",
    "    \n",
    "    # Save the image\n",
    "    image.save(f'{folder}/{font}.png')"
   ]
  },
  {
   "cell_type": "code",
   "execution_count": 215,
   "metadata": {},
   "outputs": [],
   "source": [
    "def handle_char(char, name, folder):\n",
    "    if name.isupper():\n",
    "        name='_'+name\n",
    "    folder=f'{folder}/{name}'\n",
    "    if not os.path.exists(folder):\n",
    "        os.makedirs(folder)\n",
    "    for font in FONTS:\n",
    "        gen_and_save(char, name, folder, font)"
   ]
  },
  {
   "cell_type": "code",
   "execution_count": 217,
   "metadata": {},
   "outputs": [
    {
     "name": "stdout",
     "output_type": "stream",
     "text": [
      "NUM_LABELS = 70\n"
     ]
    }
   ],
   "source": [
    "folder='dataset'\n",
    "if not os.path.exists(folder):\n",
    "    os.makedirs(folder)\n",
    "print(f'NUM_LABELS = {len(CHARS)}')\n",
    "\n",
    "for name, char in CHARS.items():\n",
    "    handle_char(char=char, name=name, folder=folder)"
   ]
  }
 ],
 "metadata": {
  "kernelspec": {
   "display_name": "Python 3",
   "language": "python",
   "name": "python3"
  },
  "language_info": {
   "codemirror_mode": {
    "name": "ipython",
    "version": 3
   },
   "file_extension": ".py",
   "mimetype": "text/x-python",
   "name": "python",
   "nbconvert_exporter": "python",
   "pygments_lexer": "ipython3",
   "version": "3.9.6"
  }
 },
 "nbformat": 4,
 "nbformat_minor": 2
}
